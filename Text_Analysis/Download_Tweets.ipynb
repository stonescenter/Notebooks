{
  "nbformat": 4,
  "nbformat_minor": 0,
  "metadata": {
    "colab": {
      "name": "Download_Tweets.ipynb",
      "provenance": [],
      "collapsed_sections": []
    },
    "kernelspec": {
      "name": "python3",
      "display_name": "Python 3"
    }
  },
  "cells": [
    {
      "cell_type": "code",
      "metadata": {
        "id": "XQNqb-Alfcyd",
        "colab_type": "code",
        "colab": {}
      },
      "source": [
        "# created by Steve\n",
        "\n",
        "import os\n",
        "import pandas as pd\n",
        "import tweepy\n",
        "from tweepy import Cursor\n",
        "import re\n",
        "import string\n",
        "import datetime\n"
      ],
      "execution_count": 0,
      "outputs": []
    },
    {
      "cell_type": "code",
      "metadata": {
        "id": "iyJcyBjEnKpB",
        "colab_type": "code",
        "colab": {}
      },
      "source": [
        "consumer_key = \"a0d7BnqJefDQKcJZJHVHCR98W\"\n",
        "consumer_secret = \"DJnHk7qwGpZCypBgiFbx0hyEetQbjSnWsaCAob8UACnd3GgbLs\"\n",
        "access_token = \"840212173745995776-n3vi1Ex1ylqP7YJdkoYDifM9H9GXKmo\"\n",
        "access_secret = \"DLjPG1XexRkxV4cOG0ZuEuQZHrJqw4HJjOXfXbyHWawbO\"\n",
        "\n",
        "\n",
        "#twitter credentials to tweepy\n",
        "auth = tweepy.OAuthHandler(consumer_key, consumer_secret)\n",
        "auth.set_access_token(access_token, access_secret)\n",
        "api = tweepy.API(auth)\n",
        "\n",
        "username = 'iotatoken'\n",
        "#api.user_timeline(screen_name=username) \n",
        "api.get_user(username)\n",
        "\n",
        "#columns of the csv file\n",
        "COLS = ['date', 'text']\n",
        "\n",
        "#set two date variables for date range\n",
        "start_date = '2019-09-18'\n",
        "end_date = '2019-09-18'\n"
      ],
      "execution_count": 0,
      "outputs": []
    },
    {
      "cell_type": "code",
      "metadata": {
        "id": "gAValgmKfsgY",
        "colab_type": "code",
        "outputId": "5024ebf3-615c-4c9e-fa4c-7b53a96483d3",
        "colab": {
          "base_uri": "https://localhost:8080/",
          "height": 34
        }
      },
      "source": [
        "def get_tweets_(screename, keyword):   \n",
        "    #page attribute in tweepy.cursor and iteration\n",
        "    #for page in tweepy.Cursor(api.search, q=keyword, \n",
        "    #  count=200, include_rts=False, since=start_date).pages(50):\n",
        "    tweets = []\n",
        "    for page in tweepy.Cursor(api.user_timeline, screen_name = screename, \\\n",
        "                              exclude_replies = True, include_rts=False, tweet_mode='extended', cound=200).pages(50):\n",
        "      for status in page:\n",
        "            new_entry = []\n",
        "            status = status._json\n",
        "\n",
        "            if status['lang'] != 'en':\n",
        "                continue\n",
        "\n",
        "            new_entry += [status['created_at'], status['full_text']]\n",
        "\n",
        "            #single_tweet_df = pd.DataFrame([new_entry], columns=COLS)\n",
        "            #df = df.append(single_tweet_df, ignore_index=True)\n",
        "            tweets.append(new_entry)\n",
        "            \n",
        "    return tweets\n",
        "\n",
        "def get_tweets(userId, limit=50):\n",
        "  tweets = []\n",
        "  try:\n",
        "    tweetsObj = Cursor(\n",
        "            api.user_timeline, \\\n",
        "            user_id=userId, \\\n",
        "            exclude_replies = True, \\\n",
        "            tweet_mode='extended'\n",
        "            ).items(limit)\n",
        "    for cnt, tweet in enumerate(tweetsObj):\n",
        "      #if not cnt < limit:\n",
        "      #    break\n",
        "      # print(tweet.text.replace(\"\\n\", \"\"))\n",
        "      \n",
        "      entry = [tweet.created_at, tweet.full_text]\n",
        "      tweets.append(entry)\n",
        "  except tweepy.error.TweepError as et:\n",
        "    print(et)\n",
        "\n",
        "  return tweets \n",
        "\n",
        "\n",
        "# keywords\n",
        "asset_keywords = '#btc OR #bitcoin OR #XBT'\n",
        "asset_keywords = ''\n",
        "\n",
        "tweets = get_tweets_(username, asset_keywords)\n",
        "#tweets = get_tweets(username)\n",
        "df = pd.DataFrame(tweets, columns=COLS)\n",
        "\n",
        "df['date'] = pd.to_datetime(df[\"date\"])\n",
        "\n",
        "# indexamos \n",
        "df['date'] = df[\"date\"].apply( lambda df : \n",
        "datetime.datetime(year=df.year, month=df.month, day=df.day))\t\n",
        "\n",
        "df.set_index(df[\"date\"],inplace=True)\n",
        "\n",
        "# grabamos a .csv\n",
        "df.to_csv('tweets_iota.csv', columns=['text'], index=True, encoding=\"utf-8\")\n",
        "df.head()\n",
        "print(\"dados salvos ...\")\n"
      ],
      "execution_count": 0,
      "outputs": [
        {
          "output_type": "stream",
          "text": [
            "dados salvos ...\n"
          ],
          "name": "stdout"
        }
      ]
    }
  ]
}