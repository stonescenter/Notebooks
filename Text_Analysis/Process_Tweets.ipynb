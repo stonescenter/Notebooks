{
 "cells": [
  {
   "cell_type": "code",
   "execution_count": 0,
   "metadata": {
    "colab": {
     "base_uri": "https://localhost:8080/",
     "height": 119
    },
    "colab_type": "code",
    "id": "XQNqb-Alfcyd",
    "outputId": "3283ac54-7035-4443-8538-09d805af9dd9"
   },
   "outputs": [
    {
     "name": "stdout",
     "output_type": "stream",
     "text": [
      "[nltk_data] Downloading package stopwords to /root/nltk_data...\n",
      "[nltk_data]   Package stopwords is already up-to-date!\n",
      "[nltk_data] Downloading package punkt to /root/nltk_data...\n",
      "[nltk_data]   Package punkt is already up-to-date!\n",
      "[nltk_data] Downloading package rslp to /root/nltk_data...\n",
      "[nltk_data]   Package rslp is already up-to-date!\n"
     ]
    }
   ],
   "source": [
    "# created by Steve\n",
    "\n",
    "import os\n",
    "import pandas as pd\n",
    "import tweepy\n",
    "from tweepy import Cursor\n",
    "import re\n",
    "import string\n",
    "import datetime\n",
    "\n",
    "\n",
    "from textblob import TextBlob\n",
    "\n",
    "#!pip install tweet-preprocessor\n",
    "#import preprocessor as p\n",
    "\n",
    "import nltk\n",
    "nltk.download('stopwords')\n",
    "nltk.download('punkt')\n",
    "nltk.download('rslp')\n",
    "\n",
    "from nltk.corpus import stopwords\n",
    "from nltk.tokenize import word_tokenize\n",
    "\n",
    "import matplotlib.pyplot as plt\n",
    "import seaborn as sns\n",
    "%matplotlib inline"
   ]
  },
  {
   "cell_type": "code",
   "execution_count": 0,
   "metadata": {
    "colab": {},
    "colab_type": "code",
    "id": "iyJcyBjEnKpB"
   },
   "outputs": [],
   "source": [
    "\n",
    "consumer_key = \"\"\n",
    "consumer_secret = \"\"\n",
    "access_token = \"\"\n",
    "access_secret = \"\"\n",
    "\n",
    "#twitter credentials to tweepy\n",
    "auth = tweepy.OAuthHandler(consumer_key, consumer_secret)\n",
    "auth.set_access_token(access_token, access_secret)\n",
    "api = tweepy.API(auth)\n",
    "\n",
    "username = 'iotatoken'\n",
    "#api.user_timeline(screen_name=username) \n",
    "api.get_user(username)\n",
    "\n",
    "#columns of the csv file\n",
    "COLS = ['original_text', 'clean_text', 'created_at', 'polarity','subjectivity']\n",
    "\n",
    "#set two date variables for date range\n",
    "start_date = '2019-09-18'\n",
    "end_date = '2019-09-18'\n",
    "\n",
    "# Happy Emoticons\n",
    "emoticons_happy = set([\n",
    "    ':-)', ':)', ';)', ':o)', ':]', ':3', ':c)', ':>', '=]', '8)', '=)', ':}',\n",
    "    ':^)', ':-D', ':D', '8-D', '8D', 'x-D', 'xD', 'X-D', 'XD', '=-D', '=D',\n",
    "    '=-3', '=3', ':-))', \":'-)\", \":')\", ':*', ':^*', '>:P', ':-P', ':P', 'X-P',\n",
    "    'x-p', 'xp', 'XP', ':-p', ':p', '=p', ':-b', ':b', '>:)', '>;)', '>:-)',\n",
    "    '<3'\n",
    "    ])\n",
    "\n",
    "# sad Emoticons\n",
    "emoticons_sad = set([\n",
    "    ':L', ':-/', '>:/', ':S', '>:[', ':@', ':-(', ':[', ':-||', '=L', ':<',\n",
    "    ':-[', ':-<', '=\\\\', '=/', '>:(', ':(', '>.<', \":'-(\", \":'(\", ':\\\\', ':-c',\n",
    "    ':c', ':{', '>:\\\\', ';('\n",
    "    ])\n",
    "\n",
    "#Emoji \n",
    "emoji_pattern = re.compile(\"[\"\n",
    "                           u\"\\U0001F600-\\U0001F64F\"  # emoticons\n",
    "                           u\"\\U0001F300-\\U0001F5FF\"  # symbols & pictographs\n",
    "                           u\"\\U0001F680-\\U0001F6FF\"  # transport & map symbols\n",
    "                           u\"\\U0001F1E0-\\U0001F1FF\"  # flags (iOS)\n",
    "                           u\"\\U00002702-\\U000027B0\"\n",
    "                           u\"\\U000024C2-\\U0001F251\"\n",
    "                           \"]+\", flags=re.UNICODE)\n",
    "\n",
    "#combinamos\n",
    "emoticons = emoticons_happy.union(emoticons_sad)"
   ]
  },
  {
   "cell_type": "code",
   "execution_count": 0,
   "metadata": {
    "colab": {
     "base_uri": "https://localhost:8080/",
     "height": 235
    },
    "colab_type": "code",
    "id": "gAValgmKfsgY",
    "outputId": "17aea844-7e06-41fc-a453-a2b9d13fe1ae"
   },
   "outputs": [
    {
     "data": {
      "text/html": [
       "<div>\n",
       "<style scoped>\n",
       "    .dataframe tbody tr th:only-of-type {\n",
       "        vertical-align: middle;\n",
       "    }\n",
       "\n",
       "    .dataframe tbody tr th {\n",
       "        vertical-align: top;\n",
       "    }\n",
       "\n",
       "    .dataframe thead th {\n",
       "        text-align: right;\n",
       "    }\n",
       "</style>\n",
       "<table border=\"1\" class=\"dataframe\">\n",
       "  <thead>\n",
       "    <tr style=\"text-align: right;\">\n",
       "      <th></th>\n",
       "      <th>polarity</th>\n",
       "      <th>subjectivity</th>\n",
       "    </tr>\n",
       "    <tr>\n",
       "      <th>date</th>\n",
       "      <th></th>\n",
       "      <th></th>\n",
       "    </tr>\n",
       "  </thead>\n",
       "  <tbody>\n",
       "    <tr>\n",
       "      <th>2017-07-02</th>\n",
       "      <td>-0.166667</td>\n",
       "      <td>0.066667</td>\n",
       "    </tr>\n",
       "    <tr>\n",
       "      <th>2017-07-03</th>\n",
       "      <td>0.000000</td>\n",
       "      <td>0.000000</td>\n",
       "    </tr>\n",
       "    <tr>\n",
       "      <th>2017-07-04</th>\n",
       "      <td>0.214286</td>\n",
       "      <td>0.642857</td>\n",
       "    </tr>\n",
       "    <tr>\n",
       "      <th>2017-07-05</th>\n",
       "      <td>0.000000</td>\n",
       "      <td>0.000000</td>\n",
       "    </tr>\n",
       "    <tr>\n",
       "      <th>2017-07-06</th>\n",
       "      <td>0.000000</td>\n",
       "      <td>0.000000</td>\n",
       "    </tr>\n",
       "  </tbody>\n",
       "</table>\n",
       "</div>"
      ],
      "text/plain": [
       "            polarity  subjectivity\n",
       "date                              \n",
       "2017-07-02 -0.166667      0.066667\n",
       "2017-07-03  0.000000      0.000000\n",
       "2017-07-04  0.214286      0.642857\n",
       "2017-07-05  0.000000      0.000000\n",
       "2017-07-06  0.000000      0.000000"
      ]
     },
     "execution_count": 47,
     "metadata": {
      "tags": []
     },
     "output_type": "execute_result"
    }
   ],
   "source": [
    "# declaramos funçoes\n",
    "def remove_punct(s):\n",
    "    s = \"\".join([char for char in s if char not in string.punctuation and char not in emoticons])\n",
    "    s = re.sub('[0-9]+', '', s)\n",
    "    return s\n",
    "\n",
    "def remove_unuseful(s):\n",
    "    s = re.sub(r'http\\S+', '', s)\n",
    "    s = re.sub('(RT|via)((?:\\\\b\\\\W*@\\\\w+)+)', ' ', s)\n",
    "    s = re.sub(r'@\\S+', '', s)\n",
    "    s = re.sub('&amp', '', s)\n",
    "    s = re.sub(r'[^\\x00-\\x7F]+',' ', s)\n",
    "\n",
    "    return s\n",
    "  \n",
    "def remove_stopwords(text, lang, domain_stopwords=[]):\n",
    "  \n",
    "  stop_words = nltk.corpus.stopwords.words(lang) # lang='portuguese' or lang='english'\n",
    "  \n",
    "  s = str(text).lower() # tudo para caixa baixa\n",
    "  table = str.maketrans({key: None for key in string.punctuation})\n",
    "  s = s.translate(table) # remove pontuacao\n",
    "  \n",
    "  tokens = word_tokenize(s) #obtem tokens\n",
    "  \n",
    "  v = [i for i in tokens if not i in stop_words and not i in domain_stopwords and not i.isdigit()] # remove stopwords\n",
    "  s = \"\"\n",
    "  for token in v:\n",
    "    s += token+\" \"\n",
    "  return s.strip()\n",
    "\n",
    "# stemming\n",
    "def stemming(text,lang):\n",
    "  \n",
    "  stemmer = PorterStemmer() # stemming para ingles\n",
    "  \n",
    "  if lang=='portuguese':\n",
    "    stemmer = nltk.stem.RSLPStemmer() # stemming para portuguese\n",
    "    \n",
    "  tokens = word_tokenize(text) #obtem tokens\n",
    "  \n",
    "  sentence_stem = ''\n",
    "  doc_text_stems = [stemmer.stem(i) for i in tokens]\n",
    "  for stem in doc_text_stems:\n",
    "    sentence_stem += stem+\" \"\n",
    "    \n",
    "  return sentence_stem.strip()\n",
    "\n",
    "\n",
    "def clean_tweets(text, lang='english', domain_stopwords=[]):\n",
    "    #text = remove_stopwords(text, lang, domain_stopwords)\n",
    "    text = remove_unuseful(text)\n",
    "    text = remove_punct(text)\n",
    "    text = emoji_pattern.sub(r'', text)\n",
    "    \n",
    "    #text = stemming(text, lang)\n",
    "    tokens = word_tokenize(text)\n",
    "    \n",
    "    return ' '.join(tokens)\n",
    "\n",
    "\n",
    "def get_tweets_(screename, keyword):   \n",
    "    #page attribute in tweepy.cursor and iteration\n",
    "    #for page in tweepy.Cursor(api.search, q=keyword, \n",
    "    #  count=200, include_rts=False, since=start_date).pages(50):\n",
    "    tweets = []\n",
    "    for page in tweepy.Cursor(api.user_timeline, screen_name = screename, \\\n",
    "                              exclude_replies = True, include_rts=False, tweet_mode='extended', cound=200).pages(50):\n",
    "      for status in page:\n",
    "            new_entry = []\n",
    "            status = status._json\n",
    "\n",
    "            if status['lang'] != 'en':\n",
    "                continue\n",
    "\n",
    "            clean_tweet = clean_tweets(status['full_text'])\n",
    "\n",
    "            #The polarity score is a float within the range [-1.0, 1.0]. \n",
    "            #The subjectivity is a float within the range [0.0, 1.0] where 0.0 is very objective and 1.0 is very subjective.\n",
    "            blob = TextBlob(clean_tweet)\n",
    "            Sentiment = blob.sentiment\n",
    "\n",
    "            polarity = Sentiment.polarity\n",
    "            subjectivity = Sentiment.subjectivity\n",
    "\n",
    "            new_entry += [status['full_text'], clean_tweet, status['created_at'],  polarity, subjectivity]\n",
    "\n",
    "            #single_tweet_df = pd.DataFrame([new_entry], columns=COLS)\n",
    "            #df = df.append(single_tweet_df, ignore_index=True)\n",
    "            tweets.append(new_entry)\n",
    "\n",
    "    #csvFile = open(file, 'a' ,encoding='utf-8')\n",
    "    #df.to_csv(csvFile, mode='a', columns=COLS, index=False, encoding=\"utf-8\")\n",
    "    \n",
    "    return tweets\n",
    "\n",
    "def get_tweets(userId, limit=50):\n",
    "  tweets = []\n",
    "  try:\n",
    "    tweetsObj = Cursor(\n",
    "            api.user_timeline, \\\n",
    "            user_id=userId, \\\n",
    "            exclude_replies = True, \\\n",
    "            tweet_mode='extended'\n",
    "            ).items(limit)\n",
    "    for cnt, tweet in enumerate(tweetsObj):\n",
    "      #if not cnt < limit:\n",
    "      #    break\n",
    "      # print(tweet.text.replace(\"\\n\", \"\"))\n",
    "      clean_tweet = clean_tweets(tweet.full_text)\n",
    "\n",
    "      #pass textBlob method for sentiment calculations\n",
    "      blob = TextBlob(clean_tweet)\n",
    "      Sentiment = blob.sentiment\n",
    "\n",
    "      #seperate polarity and subjectivity in to two variables\n",
    "      polarity = Sentiment.polarity\n",
    "      subjectivity = Sentiment.subjectivity\n",
    "      \n",
    "      entry = [tweet.full_text, clean_tweet, tweet.created_at, polarity, subjectivity]\n",
    "      tweets.append(entry)\n",
    "  except tweepy.error.TweepError as et:\n",
    "    print(et)\n",
    "\n",
    "  return tweets \n",
    "\n",
    "\n",
    "# keywords\n",
    "asset_keywords = '#btc OR #bitcoin OR #XBT'\n",
    "asset_keywords = ''\n",
    "\n",
    "tweets = get_tweets_(username, asset_keywords)\n",
    "#tweets = get_tweets(username)\n",
    "df = pd.DataFrame(tweets, columns=COLS)\n",
    "\n",
    "df['created_at'] = pd.to_datetime(df[\"created_at\"])\n",
    "\n",
    "# indexamos \n",
    "df['date'] = df[\"created_at\"].apply( lambda df : \n",
    "datetime.datetime(year=df.year, month=df.month, day=df.day))\t\n",
    "df.set_index(df[\"date\"],inplace=True)\n",
    "\n",
    "\n",
    "sentimento = df.resample('D').mean()\n",
    "#df['polarity'].resample('D', how='mean')\n",
    "\n",
    "# remplaza valores NaN por cero en dias que nao teve tweets\n",
    "sentimento.fillna(0, inplace=True)\n",
    "sentimento.head()"
   ]
  },
  {
   "cell_type": "markdown",
   "metadata": {
    "colab_type": "text",
    "id": "B5AW3ht7xDRb"
   },
   "source": [
    "**Visualizamos**"
   ]
  },
  {
   "cell_type": "code",
   "execution_count": 0,
   "metadata": {
    "colab": {
     "base_uri": "https://localhost:8080/",
     "height": 475
    },
    "colab_type": "code",
    "id": "ANn-cFT4xM4P",
    "outputId": "7c5f541d-48ac-45d7-c0bb-1f11145d4713"
   },
   "outputs": [
    {
     "data": {
      "text/plain": [
       "<matplotlib.axes._subplots.AxesSubplot at 0x7f1c78910828>"
      ]
     },
     "execution_count": 48,
     "metadata": {
      "tags": []
     },
     "output_type": "execute_result"
    },
    {
     "data": {
      "image/png": "[encoded data removed]",
      "text/plain": [
       "<Figure size 1080x504 with 1 Axes>"
      ]
     },
     "metadata": {
      "tags": []
     },
     "output_type": "display_data"
    }
   ],
   "source": [
    "fig, ax = plt.subplots(figsize=(15,7))\n",
    "#df.groupby(['date']).mean()['polarity'].plot(ax=ax)\n",
    "df.resample('D').mean()['polarity'].plot(ax=ax)\n",
    "#df.resample('D').mean()['subjectivity'].plot(ax=ax)"
   ]
  },
  {
   "cell_type": "code",
   "execution_count": 0,
   "metadata": {
    "colab": {
     "base_uri": "https://localhost:8080/",
     "height": 54
    },
    "colab_type": "code",
    "id": "_3YU0daQxpZ2",
    "outputId": "40402794-2ef5-4814-bcf5-9d7087d8d4e0"
   },
   "outputs": [
    {
     "name": "stdout",
     "output_type": "stream",
     "text": [
      "dados salvos ...\n"
     ]
    }
   ],
   "source": [
    "# grabamos a .csv\n",
    "sentimento.to_csv('sentimento_iota.csv', columns=['polarity', 'subjectivity'], index=True, encoding=\"utf-8\")\n",
    "print(\"dados salvos ...\")\n"
   ]
  }
 ],
 "metadata": {
  "colab": {
   "collapsed_sections": [],
   "name": "Process_Tweets.ipynb",
   "provenance": []
  },
  "kernelspec": {
   "display_name": "Python 3",
   "language": "python",
   "name": "python3"
  },
  "language_info": {
   "codemirror_mode": {
    "name": "ipython",
    "version": 3
   },
   "file_extension": ".py",
   "mimetype": "text/x-python",
   "name": "python",
   "nbconvert_exporter": "python",
   "pygments_lexer": "ipython3",
   "version": "3.7.4"
  }
 },
 "nbformat": 4,
 "nbformat_minor": 1
}
